{
  "nbformat": 4,
  "nbformat_minor": 0,
  "metadata": {
    "colab": {
      "name": "Colab-TuiGAN.ipynb",
      "private_outputs": true,
      "provenance": [],
      "collapsed_sections": [],
      "toc_visible": true
    },
    "kernelspec": {
      "name": "python3",
      "display_name": "Python 3"
    },
    "accelerator": "GPU"
  },
  "cells": [
    {
      "cell_type": "markdown",
      "metadata": {
        "id": "XZUPEnGt5eBQ"
      },
      "source": [
        "# Colab-TuiGAN\r\n",
        "\r\n",
        "Original repo: [linjx-ustc1106/TuiGAN-PyTorch](https://github.com/linjx-ustc1106/TuiGAN-PyTorch)\r\n",
        "\r\n",
        "My fork: [styler00dollar/Colab-TuiGAN](https://github.com/styler00dollar/Colab-TuiGAN)"
      ]
    },
    {
      "cell_type": "code",
      "metadata": {
        "id": "AvVsCp1N48vt"
      },
      "source": [
        "!nvidia-smi"
      ],
      "execution_count": null,
      "outputs": []
    },
    {
      "cell_type": "markdown",
      "metadata": {
        "id": "41J2bsG07MBD"
      },
      "source": [
        "Code is technically wrong and it will fail with new pytorch since failchecks were introduced. Either needed to downgrade pytorch or to fix the code. Using miniconda will obviously take some time."
      ]
    },
    {
      "cell_type": "code",
      "metadata": {
        "id": "WqUMje2278d5",
        "cellView": "form"
      },
      "source": [
        "#@title Install miniconda and old pytorch\r\n",
        "!git clone https://github.com/linjx-ustc1106/TuiGAN-PyTorch\r\n",
        "%cd /content/\r\n",
        "!wget -c https://repo.anaconda.com/miniconda/Miniconda3-4.5.4-Linux-x86_64.sh\r\n",
        "!chmod +x Miniconda3-4.5.4-Linux-x86_64.sh\r\n",
        "!bash ./Miniconda3-4.5.4-Linux-x86_64.sh -b -f -p /usr/local\r\n",
        "!conda install pytorch==1.1 cudatoolkit torchvision -c pytorch -y\r\n",
        "!conda install ipykernel -y\r\n",
        "\r\n",
        "%cd /content/TuiGAN-PyTorch\r\n",
        "!pip install -r requirements.txt"
      ],
      "execution_count": null,
      "outputs": []
    },
    {
      "cell_type": "code",
      "metadata": {
        "cellView": "form",
        "id": "csJjpzmM5rey"
      },
      "source": [
        "#@title create folders\r\n",
        "!mkdir /content/data/\r\n",
        "!mkdir /content/data/trainA \r\n",
        "!mkdir /content/data/trainB"
      ],
      "execution_count": null,
      "outputs": []
    },
    {
      "cell_type": "markdown",
      "metadata": {
        "id": "Zs5eJHKs_zrO"
      },
      "source": [
        "Input files inside these paths:\r\n",
        "```\r\n",
        "/content/data/trainA/image.png\r\n",
        "/content/data/trainB/image.png\r\n",
        "```"
      ]
    },
    {
      "cell_type": "code",
      "metadata": {
        "id": "YaioZi5m5_Iy",
        "cellView": "form"
      },
      "source": [
        "#@title resize if needed\r\n",
        "import cv2\r\n",
        "path_a = \"/content/data/trainA/image.png\" #@param {type:\"string\"}\r\n",
        "path_b = \"/content/data/trainB/image.png\" #@param {type:\"string\"}\r\n",
        "size = 512 #@param {type:\"number\"}\r\n",
        "\r\n",
        "image = cv2.imread(path_a)\r\n",
        "image = cv2.resize(image, (size,size))\r\n",
        "cv2.imwrite(path_a, image)\r\n",
        "\r\n",
        "image = cv2.imread(path_b)\r\n",
        "image = cv2.resize(image, (size,size))\r\n",
        "cv2.imwrite(path_b, image)"
      ],
      "execution_count": null,
      "outputs": []
    },
    {
      "cell_type": "markdown",
      "metadata": {
        "id": "SgIq8O5TLVZD"
      },
      "source": [
        "Results will be in ```/content/TuiGAN-PyTorch/Checkpoints/placeholder```. It will generate low-res and then generate higher res. Be patient."
      ]
    },
    {
      "cell_type": "code",
      "metadata": {
        "id": "CdXn8F4k5UxY",
        "cellView": "form"
      },
      "source": [
        "#@title train\r\n",
        "!python train.py --input_name placeholder --root /content/data/"
      ],
      "execution_count": null,
      "outputs": []
    }
  ]
}
